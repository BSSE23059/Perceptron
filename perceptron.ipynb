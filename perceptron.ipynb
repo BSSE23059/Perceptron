{
  "nbformat": 4,
  "nbformat_minor": 0,
  "metadata": {
    "colab": {
      "provenance": []
    },
    "kernelspec": {
      "name": "python3",
      "display_name": "Python 3"
    },
    "language_info": {
      "name": "python"
    }
  },
  "cells": [
    {
      "cell_type": "code",
      "execution_count": 37,
      "metadata": {
        "id": "b8jWOtRLmNij"
      },
      "outputs": [],
      "source": [
        "import math\n",
        "import random\n",
        "import torch"
      ]
    },
    {
      "cell_type": "code",
      "source": [
        "class Value:\n",
        "    def __init__(self, data, _children=(), op='', label=''):\n",
        "        self.data = data\n",
        "        self.grad = 0.0\n",
        "        self.backward = lambda :None\n",
        "        self.prev = set(_children)\n",
        "        self.op = op\n",
        "        self.label = label\n",
        "\n",
        "    def __repr__(self):\n",
        "        return f\"Value(Data={self.data})\"\n",
        "\n",
        "    def __add__(self, other):\n",
        "        other = other if isinstance(other, Value) else Value(other)\n",
        "        out = Value(self.data + other.data, (self, other),'+')\n",
        "        def backward():\n",
        "            self.grad += 1.0 * out.grad\n",
        "            other.grad += 1.0 * out.grad\n",
        "        out.backward = backward\n",
        "        return out\n",
        "\n",
        "    def __mul__(self, other):\n",
        "        other = other if isinstance(other, Value) else Value(other)\n",
        "        out = Value(self.data * other.data, (self, other),'*')\n",
        "        def backward():\n",
        "            self.grad += other.data * out.grad\n",
        "            other.grad += self.data * out.grad\n",
        "        out.backward = backward\n",
        "        return out\n",
        "\n",
        "    def __pow__(self, other):\n",
        "        assert isinstance(other, (int, float)) # only support int, float\n",
        "        out = Value(self.data**other, (self, ), f\"**{other}\")\n",
        "        def backward():\n",
        "            self.grad += (other * self.data ** (other - 1)) * out.grad\n",
        "        out.backward = backward\n",
        "        return out\n",
        "\n",
        "    def __radd__(self, other):\n",
        "        return self * other\n",
        "\n",
        "    def __rmul__(self, other): # other * self\n",
        "        return self * other\n",
        "\n",
        "    def __rsub__(self, other):\n",
        "        return self * other\n",
        "\n",
        "    def __truediv__(self, other): # self / other\n",
        "        return self * other**-1\n",
        "\n",
        "    def __neg__(self):\n",
        "        return self * (-1)\n",
        "\n",
        "    def __sub__(self, other):\n",
        "        return self + (-other)\n",
        "\n",
        "    def tanh(self):\n",
        "        num = self.data\n",
        "        t = (math.exp(2*num) - 1)/(math.exp(2*num) + 1)\n",
        "        out = Value(t, (self, ), 'tanh')\n",
        "        def backward():\n",
        "            self.grad += (1 - t**2) * out.grad\n",
        "        out.backward = backward\n",
        "        return out\n",
        "\n",
        "    def exp(self):\n",
        "        x = self.data\n",
        "        out = Value(math.exp(x), (self, ), 'exp')\n",
        "        def backward():\n",
        "            self.grad = out.data * out.grad\n",
        "        out.backward = backward\n",
        "        return out\n",
        "\n",
        "    def back_ward(self):\n",
        "        topo = []\n",
        "        visited  = set()\n",
        "        def build_topo(v):\n",
        "            if v not in visited:\n",
        "                visited.add(v)\n",
        "                for child in v.prev:\n",
        "                    build_topo(child)\n",
        "                topo.append(v)\n",
        "        build_topo(self)\n",
        "\n",
        "        self.grad = 1.0\n",
        "        for node in reversed(topo):\n",
        "            node.backward()"
      ],
      "metadata": {
        "id": "RdESfMxAmsuJ"
      },
      "execution_count": 38,
      "outputs": []
    },
    {
      "cell_type": "code",
      "source": [
        "# Backpropagation in PyTorch\n",
        "x1 = torch.Tensor([2.0]).double();   x1.requires_grad = True\n",
        "x2 = torch.Tensor([0.0]).double();   x2.requires_grad = True\n",
        "w1 = torch.Tensor([-3.0]).double();  w1.requires_grad  =True\n",
        "w2 = torch.Tensor([1.0]).double();   w2.requires_grad = True\n",
        "b = torch.Tensor([6.8813735870195432]).double();  b.requires_grad = True\n",
        "\n",
        "# forward pass\n",
        "x1w1 = x1*w1\n",
        "x2w2 = x2*w2\n",
        "n = x1w1 + x2w2 + b\n",
        "o = torch.tanh(n)\n",
        "\n",
        "# backpropagation\n",
        "o.retain_grad()\n",
        "o.backward()\n",
        "\n",
        "print(\"x1\",x1.grad.item())\n",
        "print(\"x2\",x2.grad.item())\n",
        "print(\"w1\",w1.grad.item())\n",
        "print(\"w2\",w2.grad.item())"
      ],
      "metadata": {
        "colab": {
          "base_uri": "https://localhost:8080/"
        },
        "id": "gHjBe_jjmvin",
        "outputId": "fbeac7c7-2494-4aff-febc-0f4ca80dab27"
      },
      "execution_count": 39,
      "outputs": [
        {
          "output_type": "stream",
          "name": "stdout",
          "text": [
            "x1 -1.5000003851533106\n",
            "x2 0.5000001283844369\n",
            "w1 1.0000002567688737\n",
            "w2 0.0\n"
          ]
        }
      ]
    },
    {
      "cell_type": "code",
      "source": [
        "class Neuron:\n",
        "    def __init__(self, num_of_inputs):\n",
        "        self.weight = [Value(random.uniform(-1, 1)) for _ in range(num_of_inputs)]\n",
        "        self.bias = Value(random.uniform(-1, 1))\n",
        "    def __call__(self, x):\n",
        "        # w * x + b\n",
        "        act = sum((wi * xi for wi, xi in zip(self.weight, x)), self.bias)\n",
        "        out = act.tanh()\n",
        "        return out\n",
        "    def parameters(self):\n",
        "        return self.weight + [self.bias]\n",
        "put = [2.0, 3.0]\n",
        "nu = Neuron(2)\n",
        "nu(put)"
      ],
      "metadata": {
        "colab": {
          "base_uri": "https://localhost:8080/"
        },
        "id": "_aROHWK4m9gX",
        "outputId": "3af88f71-a48d-4c61-bb2a-0b3cbf4a9e68"
      },
      "execution_count": 40,
      "outputs": [
        {
          "output_type": "execute_result",
          "data": {
            "text/plain": [
              "Value(Data=0.9909978521458636)"
            ]
          },
          "metadata": {},
          "execution_count": 40
        }
      ]
    },
    {
      "cell_type": "code",
      "source": [
        "class Layer:\n",
        "    def __init__(self, number_of_inputs, number_of_outputs):\n",
        "        self.neurons = [Neuron(number_of_inputs) for _ in range(number_of_outputs)]\n",
        "    def __call__(self, takes):\n",
        "        outs = [neuron(takes) for neuron in self.neurons]\n",
        "        return outs[0] if len(outs) == 1 else outs\n",
        "    def parameters(self):\n",
        "        return [p for neuron in self.neurons for p in neuron.parameters()]\n",
        "        # params = []\n",
        "        # for neuron in self.neurons:\n",
        "        #     ps = neuron.parameters()\n",
        "        #     params.extend(ps)\n",
        "        # return params\n",
        "put_1 = [2.0, 3.0]\n",
        "l = Layer(2, 3)\n",
        "l(put_1)"
      ],
      "metadata": {
        "colab": {
          "base_uri": "https://localhost:8080/"
        },
        "id": "sgqVMOo8nHen",
        "outputId": "cf9e746b-56cb-4580-be55-379ac7869b00"
      },
      "execution_count": 41,
      "outputs": [
        {
          "output_type": "execute_result",
          "data": {
            "text/plain": [
              "[Value(Data=0.5892638903679766),\n",
              " Value(Data=-0.5759746137542763),\n",
              " Value(Data=0.975638677717391)]"
            ]
          },
          "metadata": {},
          "execution_count": 41
        }
      ]
    },
    {
      "cell_type": "code",
      "source": [
        "class MLP:\n",
        "    def __init__(self, number_of_inputs, number_of_outputs):\n",
        "        size = [number_of_inputs] + number_of_outputs\n",
        "        print(number_of_outputs)\n",
        "        print(size)\n",
        "        self.layers = [Layer(size[i], size[i + 1]) for i in range(len(number_of_outputs))]\n",
        "        for num in range(len(number_of_outputs)):\n",
        "            print(size[num])\n",
        "            print(size[num + 1])\n",
        "    def __call__(self, puts):\n",
        "        for layer in self.layers:\n",
        "            puts = layer(puts)\n",
        "        return puts\n",
        "    def parameters(self):\n",
        "        return [por for layer in self.layers for por in layer.parameters()]"
      ],
      "metadata": {
        "id": "M1qZPyewpDLf"
      },
      "execution_count": 42,
      "outputs": []
    },
    {
      "cell_type": "code",
      "source": [
        "inputs = [2.0, 3.0, -1.0]\n",
        "n = MLP(3, [4, 4, 1])\n",
        "n(inputs)"
      ],
      "metadata": {
        "colab": {
          "base_uri": "https://localhost:8080/"
        },
        "id": "zgnhSmAvpHNv",
        "outputId": "5ff1fbc8-e2c1-403c-e494-8c6770e0dfa7"
      },
      "execution_count": 43,
      "outputs": [
        {
          "output_type": "stream",
          "name": "stdout",
          "text": [
            "[4, 4, 1]\n",
            "[3, 4, 4, 1]\n",
            "3\n",
            "4\n",
            "4\n",
            "4\n",
            "4\n",
            "1\n"
          ]
        },
        {
          "output_type": "execute_result",
          "data": {
            "text/plain": [
              "Value(Data=0.5422558376560979)"
            ]
          },
          "metadata": {},
          "execution_count": 43
        }
      ]
    },
    {
      "cell_type": "code",
      "source": [
        "n.parameters()"
      ],
      "metadata": {
        "colab": {
          "base_uri": "https://localhost:8080/"
        },
        "id": "h_MLnlwHpMWv",
        "outputId": "10c5e997-85c6-43da-be11-9a54842b34cc"
      },
      "execution_count": 44,
      "outputs": [
        {
          "output_type": "execute_result",
          "data": {
            "text/plain": [
              "[Value(Data=-0.5250479502612884),\n",
              " Value(Data=0.3557309216974993),\n",
              " Value(Data=0.9069944272455412),\n",
              " Value(Data=0.35155928251085333),\n",
              " Value(Data=-0.22353837447483538),\n",
              " Value(Data=-0.9957150706787461),\n",
              " Value(Data=-0.3018264827772088),\n",
              " Value(Data=-0.040154266594470744),\n",
              " Value(Data=0.029674580254776872),\n",
              " Value(Data=-0.6876394361270022),\n",
              " Value(Data=0.03937719147415275),\n",
              " Value(Data=0.09650773059806994),\n",
              " Value(Data=0.13644806463138592),\n",
              " Value(Data=0.5854276946577672),\n",
              " Value(Data=0.34656799657499127),\n",
              " Value(Data=0.05075900609717454),\n",
              " Value(Data=-0.3604303641670732),\n",
              " Value(Data=-0.912347829342695),\n",
              " Value(Data=0.3679324966846991),\n",
              " Value(Data=0.13055565948252257),\n",
              " Value(Data=-0.9579944983633042),\n",
              " Value(Data=0.9729323424497427),\n",
              " Value(Data=0.12443163637110488),\n",
              " Value(Data=-0.7672279399702537),\n",
              " Value(Data=0.9124308380531709),\n",
              " Value(Data=-0.6134724091376198),\n",
              " Value(Data=-0.6814899660618976),\n",
              " Value(Data=0.9475333389175131),\n",
              " Value(Data=0.06530700253213984),\n",
              " Value(Data=0.7841702491970686),\n",
              " Value(Data=0.4283432914120966),\n",
              " Value(Data=-0.8739668770086244),\n",
              " Value(Data=0.0027697098402108544),\n",
              " Value(Data=-0.8907096565812693),\n",
              " Value(Data=-0.6529285047318298),\n",
              " Value(Data=0.43845745658840674),\n",
              " Value(Data=0.9698493785267663),\n",
              " Value(Data=0.0035833941932210678),\n",
              " Value(Data=-0.9571954623466052),\n",
              " Value(Data=0.45287421894576396),\n",
              " Value(Data=0.7783575710006387)]"
            ]
          },
          "metadata": {},
          "execution_count": 44
        }
      ]
    },
    {
      "cell_type": "code",
      "source": [
        "xs = [\n",
        "    [2.0, 3.0, -1.0],\n",
        "    [3.0, -1.0, 0.5],\n",
        "    [0.5, 1.0, 1.0],\n",
        "    [1.0, 1.0, -1.0]\n",
        "]\n",
        "ys = [1.0, -1.0, -1.0, 1.0]"
      ],
      "metadata": {
        "id": "8ggIqIbUpQKn"
      },
      "execution_count": 45,
      "outputs": []
    },
    {
      "cell_type": "code",
      "source": [
        "for k in range(50):\n",
        "    # forward pass\n",
        "    ypred = [n(x) for x in xs]\n",
        "    loss = sum((yout - ygt)**2 for ygt, yout in zip(ys, ypred))\n",
        "\n",
        "    # backward pass\n",
        "    for p in n.parameters():\n",
        "        p.grad = 0.0\n",
        "    loss.back_ward()\n",
        "\n",
        "    # update\n",
        "    for p in n.parameters():\n",
        "        p.data += -0.05 * p.grad\n",
        "    print(k, loss.data)"
      ],
      "metadata": {
        "colab": {
          "base_uri": "https://localhost:8080/"
        },
        "id": "N0quKl92pTLQ",
        "outputId": "0ee03878-290a-4c22-fb9c-db5138c8b8f4"
      },
      "execution_count": 46,
      "outputs": [
        {
          "output_type": "stream",
          "name": "stdout",
          "text": [
            "0 2.9570041334120947\n",
            "1 1.3046821952094012\n",
            "2 0.5353498352157795\n",
            "3 0.33032242945342494\n",
            "4 0.23044456644834757\n",
            "5 0.1722542347430465\n",
            "6 0.13516671686780085\n",
            "7 0.10994700882683087\n",
            "8 0.09191852707827776\n",
            "9 0.07851180737048949\n",
            "10 0.06822026816445917\n",
            "11 0.06011205657049909\n",
            "12 0.05358457050985306\n",
            "13 0.04823324218846568\n",
            "14 0.04377765607878963\n",
            "15 0.040018050299798526\n",
            "16 0.036808697868823584\n",
            "17 0.03404105973944515\n",
            "18 0.03163280259073868\n",
            "19 0.029520450337307005\n",
            "20 0.027654351569446\n",
            "21 0.025995160741450772\n",
            "22 0.0245113314333592\n",
            "23 0.023177300227449862\n",
            "24 0.021972150640750143\n",
            "25 0.020878616414298976\n",
            "26 0.019882328413754966\n",
            "27 0.018971238891758054\n",
            "28 0.018135176564293254\n",
            "29 0.01736549933120793\n",
            "30 0.016654820693696767\n",
            "31 0.015996792369543433\n",
            "32 0.015385930174127661\n",
            "33 0.014817473509751308\n",
            "34 0.014287271180304945\n",
            "35 0.01379168798841826\n",
            "36 0.013327527860192711\n",
            "37 0.012891970204818245\n",
            "38 0.012482516941546003\n",
            "39 0.012096948177542033\n",
            "40 0.011733284942173308\n",
            "41 0.0113897577088728\n",
            "42 0.01106477968868734\n",
            "43 0.010756924077445596\n",
            "44 0.010464904594171622\n",
            "45 0.010187558771633328\n",
            "46 0.009923833558057574\n",
            "47 0.009672772867611246\n",
            "48 0.009433506780470242\n",
            "49 0.009205242144424527\n"
          ]
        }
      ]
    },
    {
      "cell_type": "code",
      "source": [
        "ypred"
      ],
      "metadata": {
        "colab": {
          "base_uri": "https://localhost:8080/"
        },
        "id": "gIar1OEnpWXH",
        "outputId": "4d970cca-ab77-415e-8827-42d5c5bc3b1a"
      },
      "execution_count": 47,
      "outputs": [
        {
          "output_type": "execute_result",
          "data": {
            "text/plain": [
              "[Value(Data=0.6852318366887756),\n",
              " Value(Data=-0.9509266975304742),\n",
              " Value(Data=-0.937999478440863),\n",
              " Value(Data=0.9456585935445728)]"
            ]
          },
          "metadata": {},
          "execution_count": 47
        }
      ]
    }
  ]
}